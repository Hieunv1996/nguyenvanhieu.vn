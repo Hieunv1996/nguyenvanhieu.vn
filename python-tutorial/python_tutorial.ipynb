{
 "cells": [
  {
   "cell_type": "markdown",
   "metadata": {},
   "source": [
    "# Khóa học lập trình python\n",
    "Xem chi tiết tutorial tại đây: https://nguyenvanhieu.vn/khoa-hoc-lap-trinh-python-co-ban-mien-phi/\n",
    "\n",
    "**Chú ý:**\n",
    "Nếu bạn muốn dùng jupyter notebook như này, bạn có thể tìm cách cài đặt [Anaconda](https://www.anaconda.com/download/) nhé. Anaconda sẽ bao gồm đủ mọi thứ để bạn có thể học lập trình Python và không cần cài Python nữa."
   ]
  },
  {
   "cell_type": "markdown",
   "metadata": {},
   "source": [
    "Ví dụ triển khai thuật toán sắp xếp quick sort sử dụng Python. Python khá đơn giản và tiết kiệm dòng code"
   ]
  },
  {
   "cell_type": "code",
   "execution_count": 1,
   "metadata": {},
   "outputs": [
    {
     "name": "stdout",
     "output_type": "stream",
     "text": [
      "[1, 1, 2, 3, 6, 8, 10]\n"
     ]
    }
   ],
   "source": [
    "def quicksort(arr):\n",
    "    if len(arr) <= 1:\n",
    "        return arr\n",
    "    pivot = arr[len(arr) // 2]\n",
    "    left = [x for x in arr if x < pivot]\n",
    "    middle = [x for x in arr if x == pivot]\n",
    "    right = [x for x in arr if x > pivot]\n",
    "    return quicksort(left) + middle + quicksort(right)\n",
    "\n",
    "print(quicksort([3,6,8,10,1,2,1]))"
   ]
  },
  {
   "cell_type": "markdown",
   "metadata": {},
   "source": [
    "## Kiểm tra python version bạn đang dùng\n",
    "Do mình sử dụng jupyter notebook nên muốn chạy lệnh của terminal thì phải thêm \"!\" ở đầu.\n",
    "Tutorial này sẽ sử dụng python 3."
   ]
  },
  {
   "cell_type": "code",
   "execution_count": 6,
   "metadata": {},
   "outputs": [
    {
     "name": "stdout",
     "output_type": "stream",
     "text": [
      "Python 3.5.2\n",
      "Python 3.5.2\n"
     ]
    }
   ],
   "source": [
    "!python -V # Check python version hoặc\n",
    "!python --version # Check python version"
   ]
  },
  {
   "cell_type": "markdown",
   "metadata": {},
   "source": [
    "## Các kiểu dữ liệu cơ bản trong Python"
   ]
  },
  {
   "cell_type": "markdown",
   "metadata": {},
   "source": [
    "### Ví dụ về kiểu dữ liệu số trong Python"
   ]
  },
  {
   "cell_type": "code",
   "execution_count": 8,
   "metadata": {},
   "outputs": [
    {
     "name": "stdout",
     "output_type": "stream",
     "text": [
      "<class 'int'>\n",
      "3\n",
      "4\n",
      "2\n",
      "6\n",
      "9\n",
      "4\n",
      "8\n",
      "<class 'float'>\n",
      "2.5 3.5 5.0 6.25\n"
     ]
    }
   ],
   "source": [
    "x = 3\n",
    "print(type(x)) # In ra \"<class 'int'>\"\n",
    "print(x)       # In ra \"3\"\n",
    "print(x + 1)   # Phép cộng; in ra \"4\"\n",
    "print(x - 1)   # Phép trừ; in ra \"2\"\n",
    "print(x * 2)   # Phép nhân; in ra \"6\"\n",
    "print(x ** 2)  # Phép lũy thừa; in ra \"9\"\n",
    "x += 1\n",
    "print(x)  # In ra \"4\"\n",
    "x *= 2\n",
    "print(x)  # In ra \"8\"\n",
    "y = 2.5\n",
    "print(type(y)) # In ra \"<class 'float'>\"\n",
    "print(y, y + 1, y * 2, y ** 2) # In ra \"2.5 3.5 5.0 6.25\""
   ]
  },
  {
   "cell_type": "markdown",
   "metadata": {},
   "source": [
    "### Ví dụ về kiểu dữ liệu Booleans trong Python"
   ]
  },
  {
   "cell_type": "code",
   "execution_count": 9,
   "metadata": {},
   "outputs": [
    {
     "name": "stdout",
     "output_type": "stream",
     "text": [
      "<class 'bool'>\n",
      "False\n",
      "True\n",
      "False\n",
      "True\n"
     ]
    }
   ],
   "source": [
    "t = True\n",
    "f = False\n",
    "print(type(t)) # In ra\"<class 'bool'>\"\n",
    "print(t and f) # Phép toán logic AND; in ra \"False\"\n",
    "print(t or f)  # Phép toán logic OR; in ra \"True\"\n",
    "print(not t)   # Phép toán logic NOT; in ra \"False\"\n",
    "print(t != f)  # Phép toán logic XOR; in ra \"True\""
   ]
  },
  {
   "cell_type": "markdown",
   "metadata": {},
   "source": [
    "### Ví dụ về kiểu dữ liệu Strings trong Python"
   ]
  },
  {
   "cell_type": "code",
   "execution_count": 10,
   "metadata": {},
   "outputs": [
    {
     "name": "stdout",
     "output_type": "stream",
     "text": [
      "hello\n",
      "5\n",
      "hello world\n",
      "hello world 12\n"
     ]
    }
   ],
   "source": [
    "hello = 'hello'    # Khai báo chuỗi string có thể sử dụng dấu nháy đơn\n",
    "world = \"world\"    # hoặc dấu nháy kép; Nó không ảnh hưởng gì cả.\n",
    "print(hello)       # In ra \"hello\"\n",
    "print(len(hello))  # Lấy chiều dài của string; in ra \"5\"\n",
    "hw = hello + ' ' + world  # Nối chuỗi\n",
    "print(hw)  # in ra \"hello world\"\n",
    "hw12 = '%s %s %d' % (hello, world, 12)  # Sử dụng format style của string\n",
    "print(hw12)  # in ra \"hello world 12\""
   ]
  },
  {
   "cell_type": "code",
   "execution_count": 11,
   "metadata": {},
   "outputs": [
    {
     "name": "stdout",
     "output_type": "stream",
     "text": [
      "Hello\n",
      "HELLO\n",
      "  hello\n",
      " hello \n",
      "he(ell)(ell)o\n",
      "world\n"
     ]
    }
   ],
   "source": [
    "# Một số phương thức có sẵn cho kiểu dữ liệu string\n",
    "s = \"hello\"\n",
    "print(s.capitalize())  # Chuyển thành chuỗi viết hoa chữ cái đầu; in ra \"Hello\"\n",
    "print(s.upper())       # Chuyển toàn bộ chuỗi thành viết hoa; in ra \"HELLO\"\n",
    "print(s.rjust(7))      # Căn phải một chuỗi string, bổ sung bằng khoảng trắng; in ra \"  hello\"\n",
    "print(s.center(7))     # Căn giữa một chuỗi string, bổ sung bằng khoảng trắng; in ra \" hello \"\n",
    "print(s.replace('l', '(ell)'))  # Thay thế mọi chuỗi con xuất hiện trong string bằng chuỗi khác;\n",
    "                                # in ra \"he(ell)(ell)o\"\n",
    "print('  world '.strip())  # Loại bỏ dấu cách thừa ở đầu/ cuối string; in ra \"world\"\n",
    "# bôi đen kết quả in ra để thấy dấu trắng ở đầu/cuối"
   ]
  },
  {
   "cell_type": "markdown",
   "metadata": {},
   "source": [
    "## Containers"
   ]
  },
  {
   "cell_type": "markdown",
   "metadata": {},
   "source": [
    "### Lists\n",
    "Lists trong python đóng vai trò tương tự như mảng(arrays). Nhưng lists có khả năng tự động thay đổi kích thước và các phần tử trong 1 list có thể có kiểu dữ liệu khác nhau"
   ]
  },
  {
   "cell_type": "code",
   "execution_count": 14,
   "metadata": {},
   "outputs": [
    {
     "name": "stdout",
     "output_type": "stream",
     "text": [
      "[3, 1, 2] 2\n",
      "2\n",
      "[3, 1, 'foo']\n",
      "[3, 1, 'foo', 'bar']\n",
      "bar [3, 1, 'foo']\n"
     ]
    }
   ],
   "source": [
    "# Một ví dụ cách sử dụng lists\n",
    "xs = [3, 1, 2]    # Khởi tạo 1 list\n",
    "print(xs, xs[2])  # In ra \"[3, 1, 2] 2\"\n",
    "print(xs[-1])     # Chỉ số âm có thể được dùng là bắt đầu từ cuối list; in ra \"2\"\n",
    "xs[2] = 'foo'     # Lists có thể chứa các phần tử có kiểu dữ liệu khác nhau\n",
    "print(xs)         # In ra \"[3, 1, 'foo']\"\n",
    "xs.append('bar')  # Thêm một phần tử vào cuối list\n",
    "print(xs)         # In ra \"[3, 1, 'foo', 'bar']\"\n",
    "x = xs.pop()      # Xóa và trả về phần tử ở cuối list\n",
    "print(x, xs)      # In ra \"bar [3, 1, 'foo']\""
   ]
  },
  {
   "cell_type": "code",
   "execution_count": 15,
   "metadata": {},
   "outputs": [
    {
     "name": "stdout",
     "output_type": "stream",
     "text": [
      "[0, 1, 2, 3, 4]\n",
      "[2, 3]\n",
      "[2, 3, 4]\n",
      "[0, 1]\n",
      "[0, 1, 2, 3, 4]\n",
      "[0, 1, 2, 3]\n",
      "[0, 1, 8, 9, 4]\n"
     ]
    }
   ],
   "source": [
    "# Trượt qua các phần tử trên lists\n",
    "nums = list(range(5))     # range là một built-in function giúp bạn tạo một list các số nguyên\n",
    "print(nums)               # In ra \"[0, 1, 2, 3, 4]\"\n",
    "print(nums[2:4])          # Trượt từ chỉ số 2 đến 4(không bao gồm 4); in ra \"[2, 3]\"\n",
    "print(nums[2:])           # Trượt từ chỉ số 2 tới cuối cùng; in ra \"[2, 3, 4]\"\n",
    "print(nums[:2])           # Trượt từ đầu tới chỉ số 2 (không bao gồm 2); in ra \"[0, 1]\"\n",
    "print(nums[:])            # Trượt qua toàn bộ list ; in ra \"[0, 1, 2, 3, 4]\"\n",
    "print(nums[:-1])          # Chỉ số của slice(trượt) cũng có thể là số âm; in ra \"[0, 1, 2, 3]\"\n",
    "nums[2:4] = [8, 9]        # Gán các giá trị của sublist sử dụng slice\n",
    "print(nums)               # In ra \"[0, 1, 8, 9, 4]\""
   ]
  },
  {
   "cell_type": "code",
   "execution_count": 17,
   "metadata": {},
   "outputs": [
    {
     "name": "stdout",
     "output_type": "stream",
     "text": [
      "cat\n",
      "dog\n",
      "monkey\n"
     ]
    }
   ],
   "source": [
    "# Duyệt qua tất cả các phần tử\n",
    "animals = ['cat', 'dog', 'monkey']\n",
    "for animal in animals:\n",
    "    print(animal)\n",
    "# Output:\n",
    "# Chương trình sẽ in ra: \"cat\", \"dog\", \"monkey\". Mỗi phần tử trên 1 dòng."
   ]
  },
  {
   "cell_type": "code",
   "execution_count": 18,
   "metadata": {},
   "outputs": [
    {
     "name": "stdout",
     "output_type": "stream",
     "text": [
      "#1: cat\n",
      "#2: dog\n",
      "#3: monkey\n"
     ]
    }
   ],
   "source": [
    "# Nếu bạn cần dùng cả chỉ số của list\n",
    "animals = ['cat', 'dog', 'monkey']\n",
    "for idx, animal in enumerate(animals):\n",
    "    print('#%d: %s' % (idx + 1, animal))\n",
    "# Chương trình sẽ in ra \"#1: cat\", \"#2: dog\", \"#3: monkey\", mỗi phần tử trên một dòng"
   ]
  },
  {
   "cell_type": "markdown",
   "metadata": {},
   "source": [
    "** Sử dụng List comprehensions ** - Từ này méo biết dịch sao"
   ]
  },
  {
   "cell_type": "code",
   "execution_count": 19,
   "metadata": {},
   "outputs": [
    {
     "name": "stdout",
     "output_type": "stream",
     "text": [
      "[0, 1, 4, 9, 16]\n"
     ]
    }
   ],
   "source": [
    "# Cách thông thường\n",
    "nums = [0, 1, 2, 3, 4]\n",
    "squares = []\n",
    "for x in nums:\n",
    "    squares.append(x ** 2)\n",
    "print(squares)   # In ra [0, 1, 4, 9, 16]"
   ]
  },
  {
   "cell_type": "code",
   "execution_count": 20,
   "metadata": {},
   "outputs": [
    {
     "name": "stdout",
     "output_type": "stream",
     "text": [
      "[0, 1, 4, 9, 16]\n"
     ]
    }
   ],
   "source": [
    "# Cách đơn giản hơn\n",
    "nums = [0, 1, 2, 3, 4]\n",
    "squares = [x ** 2 for x in nums]\n",
    "print(squares)   # In ra [0, 1, 4, 9, 16]"
   ]
  },
  {
   "cell_type": "code",
   "execution_count": 21,
   "metadata": {},
   "outputs": [
    {
     "name": "stdout",
     "output_type": "stream",
     "text": [
      "[0, 4, 16]\n"
     ]
    }
   ],
   "source": [
    "# Kết hợp thêm cả điều kiện\n",
    "nums = [0, 1, 2, 3, 4]\n",
    "even_squares = [x ** 2 for x in nums if x % 2 == 0]\n",
    "print(even_squares)  # In ra \"[0, 4, 16]\""
   ]
  },
  {
   "cell_type": "markdown",
   "metadata": {},
   "source": [
    "### Dictionaries\n",
    "Một dictionaries chứa các cặp (key,value), nó tương tự với map trong Java và C++"
   ]
  },
  {
   "cell_type": "code",
   "execution_count": 22,
   "metadata": {},
   "outputs": [
    {
     "name": "stdout",
     "output_type": "stream",
     "text": [
      "cute\n",
      "True\n",
      "wet\n",
      "N/A\n",
      "wet\n",
      "N/A\n"
     ]
    }
   ],
   "source": [
    "# Ví dụ sử dụng dictionaries\n",
    "d = {'cat': 'cute', 'dog': 'furry'}  # Khởi tạo 1 dict\n",
    "print(d['cat'])       # Lấy giá trị của dict có key là 'cat'; In ra \"cute\"\n",
    "print('cat' in d)     # Kiểm tra key có trong dict hay không; In ra \"True\"\n",
    "d['fish'] = 'wet'     # Set giá trị cho 1 key. Nếu key chưa có thì thêm, \n",
    "                      # nếu có rồi thì ghi đè giá trị\n",
    "print(d['fish'])      # In ra \"wet\"\n",
    "# print(d['monkey'])  # KeyError: 'monkey' not a key of d\n",
    "print(d.get('monkey', 'N/A'))  # Lấy giá trị theo key kèm theo default value; In ra \"N/A\"\n",
    "print(d.get('fish', 'N/A'))    # Lấy giá trị theo key kèm theo default value; In ra \"wet\"\n",
    "del d['fish']         # Xóa 1 phần tử khỏi dict\n",
    "print(d.get('fish', 'N/A')) # \"fish\" không còn ở trong dict; In ra \"N/A\""
   ]
  },
  {
   "cell_type": "code",
   "execution_count": 23,
   "metadata": {},
   "outputs": [
    {
     "name": "stdout",
     "output_type": "stream",
     "text": [
      "A spider has 8 legs\n",
      "A cat has 4 legs\n",
      "A person has 2 legs\n"
     ]
    }
   ],
   "source": [
    "# Lặp qua các key của dict\n",
    "d = {'person': 2, 'cat': 4, 'spider': 8}\n",
    "for animal in d:\n",
    "    legs = d[animal]\n",
    "    print('A %s has %d legs' % (animal, legs))\n",
    "# Prints \"A person has 2 legs\", \"A cat has 4 legs\", \"A spider has 8 legs\""
   ]
  },
  {
   "cell_type": "code",
   "execution_count": 24,
   "metadata": {},
   "outputs": [
    {
     "name": "stdout",
     "output_type": "stream",
     "text": [
      "A spider has 8 legs\n",
      "A cat has 4 legs\n",
      "A person has 2 legs\n"
     ]
    }
   ],
   "source": [
    "# Lặp qua từng cặp (key, value)\n",
    "d = {'person': 2, 'cat': 4, 'spider': 8}\n",
    "for animal, legs in d.items():\n",
    "    print('A %s has %d legs' % (animal, legs))\n",
    "# Prints \"A person has 2 legs\", \"A cat has 4 legs\", \"A spider has 8 legs\""
   ]
  },
  {
   "cell_type": "markdown",
   "metadata": {},
   "source": [
    "** Dictionary comprehensions **"
   ]
  },
  {
   "cell_type": "code",
   "execution_count": 25,
   "metadata": {},
   "outputs": [
    {
     "name": "stdout",
     "output_type": "stream",
     "text": [
      "{0: 0, 2: 4, 4: 16}\n"
     ]
    }
   ],
   "source": [
    "nums = [0, 1, 2, 3, 4]\n",
    "even_num_to_square = {x: x ** 2 for x in nums if x % 2 == 0}\n",
    "print(even_num_to_square)  # Prints \"{0: 0, 2: 4, 4: 16}\""
   ]
  },
  {
   "cell_type": "markdown",
   "metadata": {},
   "source": [
    "### Sets\n",
    "Set là một tập hợp các phần tử không có thứ tự và các phần tử không trùng lặp(distinct). Giống java và C++ rồi"
   ]
  },
  {
   "cell_type": "code",
   "execution_count": 26,
   "metadata": {},
   "outputs": [
    {
     "name": "stdout",
     "output_type": "stream",
     "text": [
      "True\n",
      "False\n",
      "True\n",
      "3\n",
      "3\n",
      "2\n"
     ]
    }
   ],
   "source": [
    "animals = {'cat', 'dog'}\n",
    "print('cat' in animals)   # Kiểm tra 1 phần tử có trong set hay không; prints \"True\"\n",
    "print('fish' in animals)  # prints \"False\"\n",
    "animals.add('fish')       # Thêm phần tử vào set\n",
    "print('fish' in animals)  # Prints \"True\"\n",
    "print(len(animals))       # Số phần tử có trong set; prints \"3\"\n",
    "animals.add('cat')        # Thêm phần tử đã có trong set => không làm gì hết\n",
    "print(len(animals))       # Prints \"3\"\n",
    "animals.remove('cat')     # Xóa phần tử khỏi set\n",
    "print(len(animals))       # Prints \"2\""
   ]
  },
  {
   "cell_type": "code",
   "execution_count": 27,
   "metadata": {},
   "outputs": [
    {
     "name": "stdout",
     "output_type": "stream",
     "text": [
      "#1: fish\n",
      "#2: dog\n",
      "#3: cat\n"
     ]
    }
   ],
   "source": [
    "# Lặp qua từng phần tử của sets\n",
    "animals = {'cat', 'dog', 'fish'}\n",
    "for idx, animal in enumerate(animals):\n",
    "    print('#%d: %s' % (idx + 1, animal))\n",
    "# Prints \"#1: fish\", \"#2: dog\", \"#3: cat\""
   ]
  },
  {
   "cell_type": "markdown",
   "metadata": {},
   "source": [
    "** Set comprehensions **"
   ]
  },
  {
   "cell_type": "code",
   "execution_count": 28,
   "metadata": {},
   "outputs": [
    {
     "name": "stdout",
     "output_type": "stream",
     "text": [
      "{0, 1, 2, 3, 4, 5}\n"
     ]
    }
   ],
   "source": [
    "\n",
    "from math import sqrt\n",
    "nums = {int(sqrt(x)) for x in range(30)}\n",
    "print(nums)  # Prints \"{0, 1, 2, 3, 4, 5}\""
   ]
  },
  {
   "cell_type": "markdown",
   "metadata": {},
   "source": [
    "### Tuples\n",
    "Tuple là một kiểu dữ liệu bất biến chứa một danh sách các phần tử có thứ tự. Một tuple trong nhiều trường hợp sẽ tương tự với 1 list. Có một sự khác biệt quan trọng nhất đó là tuple có thể sử dụng giống như key trong dictionaries và có thể như các phần tử trong sets, còn list thì không thể"
   ]
  },
  {
   "cell_type": "code",
   "execution_count": 29,
   "metadata": {},
   "outputs": [
    {
     "name": "stdout",
     "output_type": "stream",
     "text": [
      "<class 'tuple'>\n",
      "5\n",
      "1\n"
     ]
    }
   ],
   "source": [
    "d = {(x, x + 1): x for x in range(10)}  # Tạo một dict với keys là tuple\n",
    "t = (5, 6)        # Tạo 1 tuple\n",
    "print(type(t))    # Prints \"<class 'tuple'>\"\n",
    "print(d[t])       # Prints \"5\"\n",
    "print(d[(1, 2)])  # Prints \"1\""
   ]
  },
  {
   "cell_type": "markdown",
   "metadata": {},
   "source": [
    "## Functions"
   ]
  },
  {
   "cell_type": "code",
   "execution_count": 30,
   "metadata": {},
   "outputs": [
    {
     "name": "stdout",
     "output_type": "stream",
     "text": [
      "negative\n",
      "zero\n",
      "positive\n"
     ]
    }
   ],
   "source": [
    "def sign(x):\n",
    "    if x > 0:\n",
    "        return 'positive'\n",
    "    elif x < 0:\n",
    "        return 'negative'\n",
    "    else:\n",
    "        return 'zero'\n",
    "\n",
    "for x in [-1, 0, 1]:\n",
    "    print(sign(x))\n",
    "# Prints \"negative\", \"zero\", \"positive\""
   ]
  },
  {
   "cell_type": "code",
   "execution_count": 31,
   "metadata": {},
   "outputs": [
    {
     "name": "stdout",
     "output_type": "stream",
     "text": [
      "Hello, Bob\n",
      "HELLO, FRED!\n"
     ]
    }
   ],
   "source": [
    "# function có tham số đi cùng giá trị default\n",
    "def hello(name, loud=False):\n",
    "    if loud:\n",
    "        print('HELLO, %s!' % name.upper())\n",
    "    else:\n",
    "        print('Hello, %s' % name)\n",
    "\n",
    "hello('Bob') # Prints \"Hello, Bob\"\n",
    "hello('Fred', loud=True)  # Prints \"HELLO, FRED!\""
   ]
  },
  {
   "cell_type": "markdown",
   "metadata": {},
   "source": [
    "## Classes"
   ]
  },
  {
   "cell_type": "code",
   "execution_count": 32,
   "metadata": {},
   "outputs": [
    {
     "name": "stdout",
     "output_type": "stream",
     "text": [
      "Hello, Fred\n",
      "HELLO, FRED!\n"
     ]
    }
   ],
   "source": [
    "class Greeter(object):\n",
    " \n",
    "    # Constructor\n",
    "    def __init__(self, name):\n",
    "        self.name = name  # Create an instance variable\n",
    " \n",
    "    # Instance method\n",
    "    def greet(self, loud=False):\n",
    "        if loud:\n",
    "            print('HELLO, %s!' % self.name.upper())\n",
    "        else:\n",
    "            print('Hello, %s' % self.name)\n",
    " \n",
    "g = Greeter('Fred')  # Construct an instance of the Greeter class\n",
    "g.greet()            # Call an instance method; prints \"Hello, Fred\"\n",
    "g.greet(loud=True)   # Call an instance method; prints \"HELLO, FRED!\""
   ]
  },
  {
   "cell_type": "code",
   "execution_count": null,
   "metadata": {},
   "outputs": [],
   "source": []
  },
  {
   "cell_type": "code",
   "execution_count": null,
   "metadata": {},
   "outputs": [],
   "source": []
  },
  {
   "cell_type": "code",
   "execution_count": null,
   "metadata": {},
   "outputs": [],
   "source": []
  },
  {
   "cell_type": "code",
   "execution_count": null,
   "metadata": {},
   "outputs": [],
   "source": []
  },
  {
   "cell_type": "code",
   "execution_count": null,
   "metadata": {},
   "outputs": [],
   "source": []
  }
 ],
 "metadata": {
  "kernelspec": {
   "display_name": "Python 3",
   "language": "python",
   "name": "python3"
  },
  "language_info": {
   "codemirror_mode": {
    "name": "ipython",
    "version": 3
   },
   "file_extension": ".py",
   "mimetype": "text/x-python",
   "name": "python",
   "nbconvert_exporter": "python",
   "pygments_lexer": "ipython3",
   "version": "3.5.2"
  }
 },
 "nbformat": 4,
 "nbformat_minor": 2
}
